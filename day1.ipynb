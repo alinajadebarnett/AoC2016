{
  "nbformat": 4,
  "nbformat_minor": 0,
  "metadata": {
    "colab": {
      "name": "day1.ipynb",
      "provenance": [],
      "collapsed_sections": []
    },
    "kernelspec": {
      "name": "python3",
      "display_name": "Python 3"
    }
  },
  "cells": [
    {
      "cell_type": "markdown",
      "metadata": {
        "id": "PUheguzgYLUj"
      },
      "source": [
        "https://adventofcode.com/2016/day/1"
      ]
    },
    {
      "cell_type": "code",
      "metadata": {
        "id": "SKMKHgXI7Ive"
      },
      "source": [
        "input = r'''R1, R1, R3, R1, R1, L2, R5, L2, R5, R1, R4, L2, R3, L3, R4, L5, R4, R4, R1, L5, L4, R5, R3, L1, R4, R3, L2, L1, R3, L4, R3, L2, R5, R190, R3, R5, L5, L1, R54, L3, L4, L1, R4, R1, R3, L1, L1, R2, L2, R2, R5, L3, R4, R76, L3, R4, R191, R5, R5, L5, L4, L5, L3, R1, R3, R2, L2, L2, L4, L5, L4, R5, R4, R4, R2, R3, R4, L3, L2, R5, R3, L2, L1, R2, L3, R2, L1, L1, R1, L3, R5, L5, L1, L2, R5, R3, L3, R3, R5, R2, R5, R5, L5, L5, R2, L3, L5, L2, L1, R2, R2, L2, R2, L3, L2, R3, L5, R4, L4, L5, R3, L4, R1, R3, R2, R4, L2, L3, R2, L5, R5, R4, L2, R4, L1, L3, L1, L3, R1, R2, R1, L5, R5, R3, L3, L3, L2, R4, R2, L5, L1, L1, L5, L4, L1, L1, R1'''"
      ],
      "execution_count": null,
      "outputs": []
    },
    {
      "cell_type": "code",
      "metadata": {
        "id": "Ssq2I6LV7QsQ"
      },
      "source": [
        "import numpy as np"
      ],
      "execution_count": null,
      "outputs": []
    },
    {
      "cell_type": "code",
      "metadata": {
        "id": "ixJTWQht7fVV",
        "colab": {
          "base_uri": "https://localhost:8080/"
        },
        "outputId": "e0df1c1e-34a2-4539-919b-21e5d4558cd1"
      },
      "source": [
        "p = np.zeros(2, dtype=np.int64)\n",
        "dir = np.array([0, 1], dtype=np.int64)\n",
        "right_rot = np.array(\n",
        "    [[0,  1],\n",
        "     [-1, 0]],\n",
        "    dtype=np.int64\n",
        ")\n",
        "left_rot = np.linalg.matrix_power(right_rot, 3)\n",
        "\n",
        "for line in input.split(', '):\n",
        "  rol, d = line[0], int(line[1:])\n",
        "  if rol == 'R':\n",
        "    dir = right_rot.dot(dir)\n",
        "  if rol == 'L':\n",
        "    dir = left_rot.dot(dir)\n",
        "  p += d * dir\n",
        "sum(map(abs, p))"
      ],
      "execution_count": null,
      "outputs": [
        {
          "output_type": "execute_result",
          "data": {
            "text/plain": [
              "241"
            ]
          },
          "metadata": {
            "tags": []
          },
          "execution_count": 26
        }
      ]
    },
    {
      "cell_type": "markdown",
      "metadata": {
        "id": "tqYgC-AHb_OM"
      },
      "source": [
        "https://adventofcode.com/2016/day/1#part2"
      ]
    },
    {
      "cell_type": "code",
      "metadata": {
        "id": "SSavSblQ8z96",
        "colab": {
          "base_uri": "https://localhost:8080/"
        },
        "outputId": "66a79272-6ebe-4539-f2c8-3f599ecd3bf5"
      },
      "source": [
        "def give_headquarters(input):\n",
        "  p = np.zeros(2, dtype=np.int64)\n",
        "  dir = np.array([0, 1], dtype=np.int64)\n",
        "  \n",
        "  right_rot = np.array(\n",
        "      [[0,  1],\n",
        "      [-1, 0]],\n",
        "      dtype=np.int64\n",
        "  )\n",
        "  left_rot = np.linalg.matrix_power(right_rot, 3)\n",
        "\n",
        "  visited = set([tuple(p)])\n",
        "  for line in input.split(', '):\n",
        "    rol, d = line[0], int(line[1:])\n",
        "    if rol == 'R':\n",
        "      dir = right_rot.dot(dir)\n",
        "    if rol == 'L':\n",
        "      dir = left_rot.dot(dir)\n",
        "    for x in range(d):\n",
        "      p += dir\n",
        "      if tuple(p) in visited:\n",
        "        return p\n",
        "      visited.add(tuple(p))\n",
        "\n",
        "give_headquarters(input)"
      ],
      "execution_count": null,
      "outputs": [
        {
          "output_type": "execute_result",
          "data": {
            "text/plain": [
              "array([  11, -105])"
            ]
          },
          "metadata": {
            "tags": []
          },
          "execution_count": 27
        }
      ]
    },
    {
      "cell_type": "code",
      "metadata": {
        "colab": {
          "base_uri": "https://localhost:8080/"
        },
        "id": "jYNkGLwtaPEf",
        "outputId": "6335713d-5344-4628-9188-c564ab54b2ea"
      },
      "source": [
        "11 + 105"
      ],
      "execution_count": null,
      "outputs": [
        {
          "output_type": "execute_result",
          "data": {
            "text/plain": [
              "116"
            ]
          },
          "metadata": {
            "tags": []
          },
          "execution_count": 28
        }
      ]
    }
  ]
}