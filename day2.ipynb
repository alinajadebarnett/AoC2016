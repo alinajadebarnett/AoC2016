{
  "nbformat": 4,
  "nbformat_minor": 0,
  "metadata": {
    "colab": {
      "name": "day2.ipynb",
      "provenance": [],
      "collapsed_sections": []
    },
    "kernelspec": {
      "name": "python3",
      "display_name": "Python 3"
    }
  },
  "cells": [
    {
      "cell_type": "markdown",
      "metadata": {
        "id": "UYcNN5fScvR4"
      },
      "source": [
        "https://adventofcode.com/2016/day/2"
      ]
    },
    {
      "cell_type": "code",
      "metadata": {
        "id": "SKMKHgXI7Ive"
      },
      "source": [
        "input = r'''LRRLLLRDRURUDLRDDURULRULLDLRRLRLDULUDDDDLLRRLDUUDULDRURRLDULRRULDLRDUDLRLLLULDUURRRRURURULURRULRURDLULURDRDURDRLRRUUDRULLLLLDRULDDLLRDLURRLDUURDLRLUDLDUDLURLRLDRLUDUULRRRUUULLRDURUDRUDRDRLLDLDDDLDLRRULDUUDULRUDDRLLURDDRLDDUDLLLLULRDDUDDUUULRULUULRLLDULUDLLLLURRLDLUDLDDLDRLRRDRDUDDDLLLLLRRLLRLUDLULLDLDDRRUDDRLRDDURRDULLLURLRDLRRLRDLDURLDDULLLDRRURDULUDUDLLLDDDLLRLDDDLLRRLLURUULULDDDUDULUUURRUUDLDULULDRDDLURURDLDLULDUDUDDDDD\n",
        "RUURUDRDUULRDDLRLLLULLDDUDRDURDLRUULLLLUDUDRRUDUULRRUUDDURDDDLLLLRRUURULULLUDDLRDUDULRURRDRDLDLDUULUULUDDLUDRLULRUDRDDDLRRUUDRRLULUULDULDDLRLURDRLURRRRULDDRLDLLLRULLDURRLUDULDRDUDRLRLULRURDDRLUDLRURDDRDULUDLDLLLDRLRUDLLLLLDUDRDUURUDDUDLDLDUDLLDLRRDLULLURLDDUDDRDUDLDDUULDRLURRDLDLLUUDLDLURRLDRDDLLDLRLULUDRDLLLDRLRLLLDRUULUDLLURDLLUURUDURDDRDRDDUDDRRLLUULRRDRULRURRULLDDDUDULDDRULRLDURLUDULDLDDDLRULLULULUDLDDRDLRDRDLDULRRLRLRLLLLLDDDRDDULRDULRRLDLUDDDDLUDRLLDLURDLRDLDRDRDURRDUDULLLDLUDLDRLRRDDDRRLRLLULDRLRLLLLDUUURDLLULLUDDRLULRDLDLDURRRUURDUDRDLLLLLLDDDURLDULDRLLDUDRULRRDLDUDRLLUUUDULURRUR\n",
        "URRRLRLLDDDRRLDLDLUDRDRDLDUDDDLDRRDRLDULRRDRRDUDRRUUDUUUDLLUURLRDRRURRRRUDRLLLLRRDULRDDRUDLRLUDURRLRLDDRRLUULURLURURUDRULDUUDLULUURRRDDLRDLUDRDLDDDLRUDURRLLRDDRDRLRLLRLRUUDRRLDLUDRURUULDUURDRUULDLLDRDLRDUUDLRLRRLUDRRUULRDDRDLDDULRRRURLRDDRLLLRDRLURDLDRUULDRRRLURURUUUULULRURULRLDDDDLULRLRULDUDDULRUULRRRRRLRLRUDDURLDRRDDULLUULLDLUDDDUURLRRLDULUUDDULDDUULLLRUDLLLRDDDLUUURLDUDRLLLDRRLDDLUDLLDLRRRLDDRUULULUURDDLUR\n",
        "UULDRLUULURDRLDULURLUDULDRRDULULUDLLDURRRURDRLRLLRLDDLURRDLUUDLULRDULDRDLULULULDDLURULLULUDDRRULULULRDULRUURRRUDLRLURDRURDRRUDLDDUURDUUDLULDUDDLUUURURLRRDLULURDURRRURURDUURDRRURRDDULRULRRDRRDRUUUUULRLUUUDUUULLRRDRDULRDDULDRRULRLDLLULUUULUUDRDUUUDLLULDDRRDULUURRDUULLUUDRLLDUDLLLURURLUDDLRURRDRLDDURLDLLUURLDUURULLLRURURLULLLUURUUULLDLRDLUDDRRDDUUDLRURDDDRURUURURRRDLUDRLUULDUDLRUUDRLDRRDLDLDLRUDDDDRRDLDDDLLDLULLRUDDUDDDLDDUURLDUDLRDRURULDULULUDRRDLLRURDULDDRRDLUURUUULULRURDUUDLULLURUDDRLDDUDURRDURRUURLDLLDDUUDLLUURDRULLRRUUURRLLDRRDLURRURDULDDDDRDD\n",
        "LLRUDRUUDUDLRDRDRRLRDRRUDRDURURRLDDDDLRDURDLRRUDRLLRDDUULRULURRRLRULDUURLRURLRLDUDLLDULULDUUURLRURUDDDDRDDLLURDLDRRUDRLDULLRULULLRURRLLURDLLLRRRRDRULRUDUDUDULUURUUURDDLDRDRUUURLDRULDUDULRLRLULLDURRRRURRRDRULULUDLULDDRLRRULLDURUDDUULRUUURDRRLULRRDLDUDURUUUUUURRUUULURDUUDLLUURDLULUDDLUUULLDURLDRRDDLRRRDRLLDRRLUDRLLLDRUULDUDRDDRDRRRLUDUDRRRLDRLRURDLRULRDUUDRRLLRLUUUUURRURLURDRRUURDRRLULUDULRLLURDLLULDDDLRDULLLUDRLURDDLRURLLRDRDULULDDRDDLDDRUUURDUUUDURRLRDUDLRRLRRRDUULDRDUDRLDLRULDL'''"
      ],
      "execution_count": 22,
      "outputs": []
    },
    {
      "cell_type": "code",
      "metadata": {
        "id": "Ssq2I6LV7QsQ"
      },
      "source": [
        "from itertools import *\n",
        "import numpy as np\n",
        "import networkx as nx\n",
        "import re\n",
        "from sympy.ntheory import factorint\n",
        "from collections import defaultdict\n"
      ],
      "execution_count": 23,
      "outputs": []
    },
    {
      "cell_type": "code",
      "metadata": {
        "id": "W9CMiVWl7Xwk",
        "colab": {
          "base_uri": "https://localhost:8080/"
        },
        "outputId": "bf6ea1c4-648b-42ac-d994-45ed23fb9057"
      },
      "source": [
        "pad = np.asarray([[1,2,3],[4,5,6],[7,8,9]])\n",
        "pad"
      ],
      "execution_count": 24,
      "outputs": [
        {
          "output_type": "execute_result",
          "data": {
            "text/plain": [
              "array([[1, 2, 3],\n",
              "       [4, 5, 6],\n",
              "       [7, 8, 9]])"
            ]
          },
          "metadata": {
            "tags": []
          },
          "execution_count": 24
        }
      ]
    },
    {
      "cell_type": "code",
      "metadata": {
        "id": "SSavSblQ8z96"
      },
      "source": [
        "move_dict = {'U': (-1, 0), \"R\": (0, 1), \"L\": (0, -1), 'D': (1, 0)}"
      ],
      "execution_count": 25,
      "outputs": []
    },
    {
      "cell_type": "code",
      "metadata": {
        "id": "ixJTWQht7fVV",
        "colab": {
          "base_uri": "https://localhost:8080/"
        },
        "outputId": "b01f2bf9-4e76-4470-8ab7-4b7d48c4bab0"
      },
      "source": [
        "start = 0\n",
        "pos = (1,1)\n",
        "for line in input.split('\\n'):\n",
        "  for letter in line:\n",
        "    new_pos = np.asarray(move_dict[letter]) + np.asarray(pos)\n",
        "    n_x, n_y = new_pos\n",
        "    if 2>=n_x>=0 and 2>=n_y>=0:\n",
        "      pos = new_pos\n",
        "  start = start * 10 + pad[pos[0]][pos[1]]\n",
        "\n",
        "start"
      ],
      "execution_count": 26,
      "outputs": [
        {
          "output_type": "execute_result",
          "data": {
            "text/plain": [
              "73597"
            ]
          },
          "metadata": {
            "tags": []
          },
          "execution_count": 26
        }
      ]
    },
    {
      "cell_type": "code",
      "metadata": {
        "colab": {
          "base_uri": "https://localhost:8080/"
        },
        "id": "5WPTtHvIft55",
        "outputId": "b121889e-71f0-4a0e-8e5b-a0dbfb92b552"
      },
      "source": [
        "test_input = r'''ULL\n",
        "RRDDD\n",
        "LURDL\n",
        "UUUUD'''\n",
        "\n",
        "start = 0\n",
        "pos = (1,1)\n",
        "for line in test_input.split('\\n'):\n",
        "  for letter in line:\n",
        "    new_pos = np.asarray(move_dict[letter]) + np.asarray(pos)\n",
        "    n_x, n_y = new_pos\n",
        "    if 2>=n_x>=0 and 2>=n_y>=0:\n",
        "      pos = new_pos\n",
        "    #print(pad[pos[1]][pos[0]])\n",
        "  start = start * 10 + pad[pos[0]][pos[1]]\n",
        "\n",
        "start"
      ],
      "execution_count": 27,
      "outputs": [
        {
          "output_type": "execute_result",
          "data": {
            "text/plain": [
              "1985"
            ]
          },
          "metadata": {
            "tags": []
          },
          "execution_count": 27
        }
      ]
    },
    {
      "cell_type": "markdown",
      "metadata": {
        "id": "cX5wYvmcgxkD"
      },
      "source": [
        "https://adventofcode.com/2016/day/2#part2"
      ]
    },
    {
      "cell_type": "code",
      "metadata": {
        "colab": {
          "base_uri": "https://localhost:8080/"
        },
        "id": "0ZWLxpl6gxT7",
        "outputId": "31a8507a-469d-4cd1-8de5-f5f8b73695dd"
      },
      "source": [
        "pad = [[0,0,0,0,0,0,0],[0, 0, 0, 1, 0, 0, 0],[0, 0, 2, 3, 4, 0, 0],[0, 5, 6, 7, 8, 9, 0],[0, 0, \"A\", \"B\", \"C\", 0, 0],[0, 0, 0, \"D\", 0, 0, 0],[0,0,0,0,0,0,0]]\n",
        "pad"
      ],
      "execution_count": 32,
      "outputs": [
        {
          "output_type": "execute_result",
          "data": {
            "text/plain": [
              "[[0, 0, 0, 0, 0, 0, 0],\n",
              " [0, 0, 0, 1, 0, 0, 0],\n",
              " [0, 0, 2, 3, 4, 0, 0],\n",
              " [0, 5, 6, 7, 8, 9, 0],\n",
              " [0, 0, 'A', 'B', 'C', 0, 0],\n",
              " [0, 0, 0, 'D', 0, 0, 0],\n",
              " [0, 0, 0, 0, 0, 0, 0]]"
            ]
          },
          "metadata": {
            "tags": []
          },
          "execution_count": 32
        }
      ]
    },
    {
      "cell_type": "code",
      "metadata": {
        "colab": {
          "base_uri": "https://localhost:8080/",
          "height": 35
        },
        "id": "xF4PjXmRhIzK",
        "outputId": "f66d3428-b781-4615-cae5-3b1c2c9e274d"
      },
      "source": [
        "test_input = r'''ULL\n",
        "RRDDD\n",
        "LURDL\n",
        "UUUUD'''\n",
        "\n",
        "start = \"\"\n",
        "pos = (3,1)\n",
        "for line in test_input.split('\\n'):\n",
        "  for letter in line:\n",
        "    new_pos = np.asarray(move_dict[letter]) + np.asarray(pos)\n",
        "    n_x, n_y = new_pos\n",
        "    if pad[new_pos[0]][new_pos[1]] != 0:\n",
        "      pos = new_pos\n",
        "  start = start + str(pad[pos[0]][pos[1]])\n",
        "\n",
        "start"
      ],
      "execution_count": 43,
      "outputs": [
        {
          "output_type": "execute_result",
          "data": {
            "application/vnd.google.colaboratory.intrinsic+json": {
              "type": "string"
            },
            "text/plain": [
              "'5DB3'"
            ]
          },
          "metadata": {
            "tags": []
          },
          "execution_count": 43
        }
      ]
    },
    {
      "cell_type": "code",
      "metadata": {
        "colab": {
          "base_uri": "https://localhost:8080/",
          "height": 35
        },
        "id": "uFUTziZBhkgl",
        "outputId": "50edbfde-0362-4532-ff30-820f737ccdb7"
      },
      "source": [
        "start = \"\"\n",
        "pos = (3,1)\n",
        "for line in input.split('\\n'):\n",
        "  for letter in line:\n",
        "    new_pos = np.asarray(move_dict[letter]) + np.asarray(pos)\n",
        "    n_x, n_y = new_pos\n",
        "    if pad[new_pos[0]][new_pos[1]] != 0:\n",
        "      pos = new_pos\n",
        "  start = start + str(pad[pos[0]][pos[1]])\n",
        "\n",
        "start"
      ],
      "execution_count": 44,
      "outputs": [
        {
          "output_type": "execute_result",
          "data": {
            "application/vnd.google.colaboratory.intrinsic+json": {
              "type": "string"
            },
            "text/plain": [
              "'A47DA'"
            ]
          },
          "metadata": {
            "tags": []
          },
          "execution_count": 44
        }
      ]
    }
  ]
}